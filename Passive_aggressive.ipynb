{
 "cells": [
  {
   "cell_type": "code",
   "execution_count": 1,
   "metadata": {},
   "outputs": [],
   "source": [
    "import numpy as np\n",
    "import pandas as pd\n",
    "import itertools\n",
    "from sklearn.model_selection import train_test_split\n",
    "from sklearn.feature_extraction.text import TfidfVectorizer\n",
    "from sklearn.linear_model import PassiveAggressiveClassifier\n",
    "from sklearn.metrics import accuracy_score, confusion_matrix\n",
    "import joblib"
   ]
  },
  {
   "cell_type": "code",
   "execution_count": 2,
   "metadata": {},
   "outputs": [
    {
     "output_type": "execute_result",
     "data": {
      "text/plain": [
       "                                               title  \\\n",
       "0  PRESIDENT TRUMP Explains New “America First” R...   \n",
       "1  TERMINALLY ILL FORMER MISS WI: “Until my last ...   \n",
       "2   Cruz Humiliated By Moderator After Lie About ...   \n",
       "3  Russia revels in Trump victory, looks to sanct...   \n",
       "4  Trump's bid to open U.S. monuments to developm...   \n",
       "\n",
       "                                                text       subject       date  \\\n",
       "0  That s what we re talking about! Another campa...      politics   2-Aug-17   \n",
       "1  How is it that Sean Hannity is the only media ...      politics   4-Oct-16   \n",
       "2  Almost immediately after learning that longtim...          News  13-Feb-16   \n",
       "3  MOSCOW (Reuters) - For all their mutual praise...  politicsNews   9-Nov-16   \n",
       "4  WASHINGTON (Reuters) - The Trump administratio...  politicsNews  26-May-17   \n",
       "\n",
       "  label  \n",
       "0  Fake  \n",
       "1  Fake  \n",
       "2  Fake  \n",
       "3  Real  \n",
       "4  Real  "
      ],
      "text/html": "<div>\n<style scoped>\n    .dataframe tbody tr th:only-of-type {\n        vertical-align: middle;\n    }\n\n    .dataframe tbody tr th {\n        vertical-align: top;\n    }\n\n    .dataframe thead th {\n        text-align: right;\n    }\n</style>\n<table border=\"1\" class=\"dataframe\">\n  <thead>\n    <tr style=\"text-align: right;\">\n      <th></th>\n      <th>title</th>\n      <th>text</th>\n      <th>subject</th>\n      <th>date</th>\n      <th>label</th>\n    </tr>\n  </thead>\n  <tbody>\n    <tr>\n      <th>0</th>\n      <td>PRESIDENT TRUMP Explains New “America First” R...</td>\n      <td>That s what we re talking about! Another campa...</td>\n      <td>politics</td>\n      <td>2-Aug-17</td>\n      <td>Fake</td>\n    </tr>\n    <tr>\n      <th>1</th>\n      <td>TERMINALLY ILL FORMER MISS WI: “Until my last ...</td>\n      <td>How is it that Sean Hannity is the only media ...</td>\n      <td>politics</td>\n      <td>4-Oct-16</td>\n      <td>Fake</td>\n    </tr>\n    <tr>\n      <th>2</th>\n      <td>Cruz Humiliated By Moderator After Lie About ...</td>\n      <td>Almost immediately after learning that longtim...</td>\n      <td>News</td>\n      <td>13-Feb-16</td>\n      <td>Fake</td>\n    </tr>\n    <tr>\n      <th>3</th>\n      <td>Russia revels in Trump victory, looks to sanct...</td>\n      <td>MOSCOW (Reuters) - For all their mutual praise...</td>\n      <td>politicsNews</td>\n      <td>9-Nov-16</td>\n      <td>Real</td>\n    </tr>\n    <tr>\n      <th>4</th>\n      <td>Trump's bid to open U.S. monuments to developm...</td>\n      <td>WASHINGTON (Reuters) - The Trump administratio...</td>\n      <td>politicsNews</td>\n      <td>26-May-17</td>\n      <td>Real</td>\n    </tr>\n  </tbody>\n</table>\n</div>"
     },
     "metadata": {},
     "execution_count": 2
    }
   ],
   "source": [
    "#Read the data\n",
    "df=pd.read_csv('train.csv')\n",
    "\n",
    "#Get shape and head\n",
    "df.shape\n",
    "df.head()"
   ]
  },
  {
   "cell_type": "code",
   "execution_count": 37,
   "metadata": {},
   "outputs": [
    {
     "output_type": "execute_result",
     "data": {
      "text/plain": [
       "Index(['title', 'text', 'subject', 'date', 'label'], dtype='object')"
      ]
     },
     "metadata": {},
     "execution_count": 37
    }
   ],
   "source": [
    "columnsList = df.columns\n",
    "columnsList"
   ]
  },
  {
   "cell_type": "code",
   "execution_count": 38,
   "metadata": {},
   "outputs": [
    {
     "output_type": "execute_result",
     "data": {
      "text/plain": [
       "title      40019\n",
       "text       40019\n",
       "subject    40000\n",
       "date       40000\n",
       "label      40000\n",
       "dtype: int64"
      ]
     },
     "metadata": {},
     "execution_count": 38
    }
   ],
   "source": [
    "df.count()"
   ]
  },
  {
   "cell_type": "code",
   "execution_count": 39,
   "metadata": {},
   "outputs": [
    {
     "output_type": "execute_result",
     "data": {
      "text/plain": [
       "title      38\n",
       "text       38\n",
       "subject    57\n",
       "date       57\n",
       "label      57\n",
       "dtype: int64"
      ]
     },
     "metadata": {},
     "execution_count": 39
    }
   ],
   "source": [
    "df.isna().sum()\n",
    "#as can be observed there are null values in the dataset and we can drop them since they arent too many"
   ]
  },
  {
   "cell_type": "code",
   "execution_count": 40,
   "metadata": {},
   "outputs": [
    {
     "output_type": "execute_result",
     "data": {
      "text/plain": [
       "                                                    title   text  \\\n",
       "count                                               40019  40019   \n",
       "unique                                              35086  34976   \n",
       "top     Factbox: Trump fills top jobs for his administ...          \n",
       "freq                                                   12    552   \n",
       "\n",
       "             subject       date  label  \n",
       "count          40000      40000  40000  \n",
       "unique            19       1023     13  \n",
       "top     politicsNews  20-Dec-17   Fake  \n",
       "freq           10075        171  20868  "
      ],
      "text/html": "<div>\n<style scoped>\n    .dataframe tbody tr th:only-of-type {\n        vertical-align: middle;\n    }\n\n    .dataframe tbody tr th {\n        vertical-align: top;\n    }\n\n    .dataframe thead th {\n        text-align: right;\n    }\n</style>\n<table border=\"1\" class=\"dataframe\">\n  <thead>\n    <tr style=\"text-align: right;\">\n      <th></th>\n      <th>title</th>\n      <th>text</th>\n      <th>subject</th>\n      <th>date</th>\n      <th>label</th>\n    </tr>\n  </thead>\n  <tbody>\n    <tr>\n      <th>count</th>\n      <td>40019</td>\n      <td>40019</td>\n      <td>40000</td>\n      <td>40000</td>\n      <td>40000</td>\n    </tr>\n    <tr>\n      <th>unique</th>\n      <td>35086</td>\n      <td>34976</td>\n      <td>19</td>\n      <td>1023</td>\n      <td>13</td>\n    </tr>\n    <tr>\n      <th>top</th>\n      <td>Factbox: Trump fills top jobs for his administ...</td>\n      <td></td>\n      <td>politicsNews</td>\n      <td>20-Dec-17</td>\n      <td>Fake</td>\n    </tr>\n    <tr>\n      <th>freq</th>\n      <td>12</td>\n      <td>552</td>\n      <td>10075</td>\n      <td>171</td>\n      <td>20868</td>\n    </tr>\n  </tbody>\n</table>\n</div>"
     },
     "metadata": {},
     "execution_count": 40
    }
   ],
   "source": [
    "df.describe()"
   ]
  },
  {
   "cell_type": "code",
   "execution_count": 41,
   "metadata": {},
   "outputs": [
    {
     "output_type": "execute_result",
     "data": {
      "text/plain": [
       "                                               title  \\\n",
       "0  PRESIDENT TRUMP Explains New “America First” R...   \n",
       "1  TERMINALLY ILL FORMER MISS WI: “Until my last ...   \n",
       "2   Cruz Humiliated By Moderator After Lie About ...   \n",
       "3  Russia revels in Trump victory, looks to sanct...   \n",
       "4  Trump's bid to open U.S. monuments to developm...   \n",
       "\n",
       "                                                text       subject       date  \\\n",
       "0  That s what we re talking about! Another campa...      politics   2-Aug-17   \n",
       "1  How is it that Sean Hannity is the only media ...      politics   4-Oct-16   \n",
       "2  Almost immediately after learning that longtim...          News  13-Feb-16   \n",
       "3  MOSCOW (Reuters) - For all their mutual praise...  politicsNews   9-Nov-16   \n",
       "4  WASHINGTON (Reuters) - The Trump administratio...  politicsNews  26-May-17   \n",
       "\n",
       "  label  \n",
       "0  Fake  \n",
       "1  Fake  \n",
       "2  Fake  \n",
       "3  Real  \n",
       "4  Real  "
      ],
      "text/html": "<div>\n<style scoped>\n    .dataframe tbody tr th:only-of-type {\n        vertical-align: middle;\n    }\n\n    .dataframe tbody tr th {\n        vertical-align: top;\n    }\n\n    .dataframe thead th {\n        text-align: right;\n    }\n</style>\n<table border=\"1\" class=\"dataframe\">\n  <thead>\n    <tr style=\"text-align: right;\">\n      <th></th>\n      <th>title</th>\n      <th>text</th>\n      <th>subject</th>\n      <th>date</th>\n      <th>label</th>\n    </tr>\n  </thead>\n  <tbody>\n    <tr>\n      <th>0</th>\n      <td>PRESIDENT TRUMP Explains New “America First” R...</td>\n      <td>That s what we re talking about! Another campa...</td>\n      <td>politics</td>\n      <td>2-Aug-17</td>\n      <td>Fake</td>\n    </tr>\n    <tr>\n      <th>1</th>\n      <td>TERMINALLY ILL FORMER MISS WI: “Until my last ...</td>\n      <td>How is it that Sean Hannity is the only media ...</td>\n      <td>politics</td>\n      <td>4-Oct-16</td>\n      <td>Fake</td>\n    </tr>\n    <tr>\n      <th>2</th>\n      <td>Cruz Humiliated By Moderator After Lie About ...</td>\n      <td>Almost immediately after learning that longtim...</td>\n      <td>News</td>\n      <td>13-Feb-16</td>\n      <td>Fake</td>\n    </tr>\n    <tr>\n      <th>3</th>\n      <td>Russia revels in Trump victory, looks to sanct...</td>\n      <td>MOSCOW (Reuters) - For all their mutual praise...</td>\n      <td>politicsNews</td>\n      <td>9-Nov-16</td>\n      <td>Real</td>\n    </tr>\n    <tr>\n      <th>4</th>\n      <td>Trump's bid to open U.S. monuments to developm...</td>\n      <td>WASHINGTON (Reuters) - The Trump administratio...</td>\n      <td>politicsNews</td>\n      <td>26-May-17</td>\n      <td>Real</td>\n    </tr>\n  </tbody>\n</table>\n</div>"
     },
     "metadata": {},
     "execution_count": 41
    }
   ],
   "source": [
    "df = df.dropna()\n",
    "df.count()\n",
    "df.head(5)"
   ]
  },
  {
   "cell_type": "code",
   "execution_count": 42,
   "metadata": {},
   "outputs": [
    {
     "output_type": "execute_result",
     "data": {
      "text/plain": [
       "Fake                                                                                                                                                                                                                                                                                                                                                                                                                              20868\n",
       "Real                                                                                                                                                                                                                                                                                                                                                                                                                              19113\n",
       " Stone enlisted some 200 hardened criminals for the realistic riot scene.Cult Crimes & The Daily ShooterWhen concerning America s cult crimes                                                                                                                                                                                                                                                                                         2\n",
       " Barney Frank was fully aware of the operation.Here s a passage from a Business Insider article from 2011 that describes one of DC s darkest scandals that is barely mentioned by media outlets to this day: Reuters didn t mention it. The New York Times didn t bring it up. The Guardian didn t note it either. The Washington Post got to it in the 17th paragraph.In 1989 it was discovered that Barney Frank s boyfriend        2\n",
       "  No matter who you vote for the government always gets in. We ll see which government gets in tomorrow.READ MORE ELECTION NEWS AT: 21st Century Wire 2016 FilesSUPPORT 21WIRE   SUBSCRIBE & BECOME A MEMBER @21WIRE.TV\"                                                                                                                                                                                                              2\n",
       " and the unrestricted right to taxpayer-funded abortion-on-demand.National Council of La Raza: This group lobbies for racial preferences                                                                                                                                                                                                                                                                                              2\n",
       " and financial growth projections. Now there s a real unified conspiracy theory for you! Maybe Craig Timberg should consider looking into that conspiracy                                                                                                                                                                                                                                                                             2\n",
       " the establishment s tightly-controlled information syndicate has been able to manufacture its own consensus reality through the use of their own  official  fake news. By channeling public opinion in this way                                                                                                                                                                                                                      2\n",
       " that the status quo reflects the nation s unique good fortune in being favored by God and that those calling for change are merely subversive troublemakers. As the French ancien r gime                                                                                                                                                                                                                                             2\n",
       " since this story was made public in late October                                                                                                                                                                                                                                                                                                                                                                                     2\n",
       " according to KoloTV in Las Vegas: Nevada s Homeland Security Commission on Thursday approved a grant allocation plan that will increase funding for the region s fusion center to nearly $1.1 million                                                                                                                                                                                                                                1\n",
       "5-Feb-17                                                                                                                                                                                                                                                                                                                                                                                                                              1\n",
       " lowered educational standards to accommodate Hispanics                                                                                                                                                                                                                                                                                                                                                                               1\n",
       "Name: label, dtype: int64"
      ]
     },
     "metadata": {},
     "execution_count": 42
    }
   ],
   "source": [
    "df['label'].value_counts()"
   ]
  },
  {
   "cell_type": "code",
   "execution_count": 43,
   "metadata": {},
   "outputs": [],
   "source": [
    "df = df.loc[(df['label'] >= 'Fake') & (df['label'] <= 'Real' )]\n",
    "labels = df['label'].loc[(df['label'] >= 'Fake') & (df['label'] <= 'Real' )]\n"
   ]
  },
  {
   "cell_type": "code",
   "execution_count": 44,
   "metadata": {},
   "outputs": [
    {
     "output_type": "execute_result",
     "data": {
      "text/plain": [
       "Fake    20868\n",
       "Real    19113\n",
       "Name: label, dtype: int64"
      ]
     },
     "metadata": {},
     "execution_count": 44
    }
   ],
   "source": [
    "labels.value_counts()"
   ]
  },
  {
   "cell_type": "markdown",
   "metadata": {},
   "source": [
    "**More Pre-Processing**"
   ]
  },
  {
   "cell_type": "code",
   "execution_count": 45,
   "metadata": {},
   "outputs": [],
   "source": [
    "df['title'] = df['title'].str.lower()\n",
    "df['text'] = df['text'].str.lower()\n",
    "\n",
    "#Can also use stemming"
   ]
  },
  {
   "cell_type": "code",
   "execution_count": 46,
   "metadata": {},
   "outputs": [],
   "source": [
    "#Split the dataset\n",
    "x_train,x_test,y_train,y_test=train_test_split(df['title'], labels, test_size=0.2, random_state=7)"
   ]
  },
  {
   "cell_type": "code",
   "execution_count": 47,
   "metadata": {},
   "outputs": [],
   "source": [
    "#Initialize a TfidfVectorizer\n",
    "#Stop words from english defined so as to ignore words that add no meaning.\n",
    "tfidf_vectorizer=TfidfVectorizer(stop_words='english', max_df=0.7)\n",
    "\n",
    "#Fit and transform train set, transform test set\n",
    "tfidf_train=tfidf_vectorizer.fit_transform(x_train) \n",
    "tfidf_test=tfidf_vectorizer.transform(x_test)"
   ]
  },
  {
   "cell_type": "code",
   "execution_count": 72,
   "metadata": {},
   "outputs": [],
   "source": [
    "# print(tfidf_test)"
   ]
  },
  {
   "cell_type": "code",
   "execution_count": null,
   "metadata": {},
   "outputs": [],
   "source": []
  },
  {
   "cell_type": "code",
   "execution_count": 48,
   "metadata": {},
   "outputs": [
    {
     "output_type": "stream",
     "name": "stdout",
     "text": [
      "Accuracy: 93.69%\n"
     ]
    }
   ],
   "source": [
    "#Initialize a PassiveAggressiveClassifier\n",
    "pac=PassiveAggressiveClassifier(max_iter=50)\n",
    "pac.fit(tfidf_train,y_train)\n",
    "\n",
    "#Predict on the test set and calculate accuracy\n",
    "y_pred=pac.predict(tfidf_test)\n",
    "score=accuracy_score(y_test,y_pred)\n",
    "print(f'Accuracy: {round(score*100,2)}%')"
   ]
  },
  {
   "cell_type": "code",
   "execution_count": 49,
   "metadata": {},
   "outputs": [
    {
     "output_type": "execute_result",
     "data": {
      "text/plain": [
       "array([[3933,  252],\n",
       "       [ 253, 3559]], dtype=int64)"
      ]
     },
     "metadata": {},
     "execution_count": 49
    }
   ],
   "source": [
    "#Build confusion matrix\n",
    "confusion_matrix(y_test,y_pred, labels=['Fake','Real'])\n",
    "\n",
    "#4000 Fake were correctly predicted, while 243 were not\n",
    "#255 Real were not correctly predicted while 3500 were"
   ]
  },
  {
   "cell_type": "code",
   "execution_count": 50,
   "metadata": {},
   "outputs": [],
   "source": [
    "from IPython.display import Image"
   ]
  },
  {
   "cell_type": "code",
   "execution_count": 52,
   "metadata": {},
   "outputs": [],
   "source": [
    "predHeadline = \" Sarah Palin Just Openly Admitted She Prefers Being Interviewed By Children Over The Press\".lower()\n",
    "predVec = tfidf_vectorizer.transform([predHeadline])\n",
    "pred = pac.predict(predVec)"
   ]
  },
  {
   "cell_type": "code",
   "execution_count": 53,
   "metadata": {},
   "outputs": [],
   "source": [
    "predHeadline = \" Trump has attained Victory in the elections in which Russia Revels \".lower()\n",
    "predVec = tfidf_vectorizer.transform([predHeadline])\n",
    "pred = pac.predict(predVec)"
   ]
  },
  {
   "cell_type": "code",
   "execution_count": 54,
   "metadata": {},
   "outputs": [
    {
     "output_type": "execute_result",
     "data": {
      "text/plain": [
       "array(['Real'], dtype='<U4')"
      ]
     },
     "metadata": {},
     "execution_count": 54
    }
   ],
   "source": [
    "pred"
   ]
  },
  {
   "cell_type": "code",
   "execution_count": 55,
   "metadata": {},
   "outputs": [],
   "source": [
    "#Testing it on our testing dataset of 4000 datapoints:\n",
    "dtest=pd.read_csv('test.csv')"
   ]
  },
  {
   "cell_type": "code",
   "execution_count": 56,
   "metadata": {},
   "outputs": [
    {
     "output_type": "execute_result",
     "data": {
      "text/plain": [
       "0        Fantastic testimony on the disastrous results...\n",
       "1       MEXICO CITY (Reuters) - Mexican President Enri...\n",
       "2       Hillary Clinton has picked up a huge endorseme...\n",
       "3       Did anyone else think it was the ultimate iron...\n",
       "4       There have been a lot of strange this that hav...\n",
       "                              ...                        \n",
       "3995     Advocates for big government and progressive ...\n",
       "3996    WASHINGTON (Reuters) - U.S. President Donald T...\n",
       "3997    It doesn t take a rocket scientist to know tha...\n",
       "3998    On New Jersey 101.5, Chris Christie made the a...\n",
       "3999    The Donald Trump Administration has to be the ...\n",
       "Name: text, Length: 4000, dtype: object"
      ]
     },
     "metadata": {},
     "execution_count": 56
    }
   ],
   "source": [
    "predTitles = dtest['text']\n",
    "predTitles"
   ]
  },
  {
   "cell_type": "code",
   "execution_count": 57,
   "metadata": {},
   "outputs": [],
   "source": [
    "predictionTestVector = tfidf_vectorizer.transform(predTitles)\n",
    "predTest = pac.predict(predictionTestVector)"
   ]
  },
  {
   "cell_type": "code",
   "execution_count": 58,
   "metadata": {},
   "outputs": [
    {
     "output_type": "execute_result",
     "data": {
      "text/plain": [
       "array(['Fake', 'Real', 'Fake', ..., 'Fake', 'Fake', 'Fake'], dtype='<U4')"
      ]
     },
     "metadata": {},
     "execution_count": 58
    }
   ],
   "source": [
    "predTest"
   ]
  },
  {
   "cell_type": "code",
   "execution_count": 59,
   "metadata": {},
   "outputs": [
    {
     "output_type": "execute_result",
     "data": {
      "text/plain": [
       "['pblModel.joblib']"
      ]
     },
     "metadata": {},
     "execution_count": 59
    }
   ],
   "source": [
    "#Exporting our trained model:\n",
    "joblib.dump(pac,'pblModel.joblib')"
   ]
  },
  {
   "cell_type": "code",
   "execution_count": null,
   "metadata": {},
   "outputs": [],
   "source": [
    "from sklearn.externals import joblib\n",
    "from firebase_admin import storage\n",
    "bucket = storage.bucket(name='dspbl-6a563.appspot.com')\n",
    "b = bucket.blob('model-v1/model.joblib')\n",
    "b.upload_from_filename('model.joblib')\n",
    "print('model uploaded!')"
   ]
  }
 ],
 "metadata": {
  "kernelspec": {
   "name": "python3",
   "display_name": "Python 3.8.7 64-bit",
   "metadata": {
    "interpreter": {
     "hash": "a6c0e18b404779d48f24c91d7931386571e4c64a9842522be0a6b9b5f9be8fea"
    }
   }
  },
  "language_info": {
   "codemirror_mode": {
    "name": "ipython",
    "version": 3
   },
   "file_extension": ".py",
   "mimetype": "text/x-python",
   "name": "python",
   "nbconvert_exporter": "python",
   "pygments_lexer": "ipython3",
   "version": "3.8.7-final"
  }
 },
 "nbformat": 4,
 "nbformat_minor": 2
}